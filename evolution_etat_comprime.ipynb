{
 "cells": [
  {
   "cell_type": "code",
   "execution_count": 1328,
   "metadata": {},
   "outputs": [
    {
     "data": {
      "text/plain": [
       "\"\\nÉvolution dans le temps des états comprimés\\n\\nCe programme fait \\n\\na)\\n\\nSimplifie les expressions pour dp(t) et dq(t) avec:\\na = a*exp(-iωt) et a+ = a+*exp(iωt), d'ou <p(t)> et <q(t)> ont déjà été calculé.\\n\\nb)\\n\\nTrouver la valeur minimale de dp(t)dq(t) pour l'état du vide comprimé\\n\\nc)\\n\\nEnfin de produire un graphgique de l'évolution temporelle de dq(t) et dp(t) car ξ = ω = 1\\n\\nCe travaux fait partir du dévoir en Optique Quantique PHYS7833 avec UMoncton\\n\\nProgrammme écrit par Shane Gervais\\n\""
      ]
     },
     "execution_count": 1328,
     "metadata": {},
     "output_type": "execute_result"
    }
   ],
   "source": [
    "'''\n",
    "Évolution dans le temps des états comprimés\n",
    "\n",
    "Ce programme fait \n",
    "\n",
    "a)\n",
    "\n",
    "Simplifie les expressions pour dp(t) et dq(t) avec:\n",
    "a = a*exp(-iωt) et a+ = a+*exp(iωt), d'ou <p(t)> et <q(t)> ont déjà été calculé.\n",
    "\n",
    "b)\n",
    "\n",
    "Trouver la valeur minimale de dp(t)dq(t) pour l'état du vide comprimé\n",
    "\n",
    "c)\n",
    "\n",
    "Enfin de produire un graphgique de l'évolution temporelle de dq(t) et dp(t) car ξ = ω = 1\n",
    "\n",
    "Ce travaux fait partir du dévoir en Optique Quantique PHYS7833 avec UMoncton\n",
    "\n",
    "Programmme écrit par Shane Gervais\n",
    "'''"
   ]
  },
  {
   "cell_type": "code",
   "execution_count": 1329,
   "metadata": {},
   "outputs": [],
   "source": [
    "from sympy import *"
   ]
  },
  {
   "cell_type": "code",
   "execution_count": 1330,
   "metadata": {},
   "outputs": [],
   "source": [
    "#Définire les symboles dans nos équations de p(t) et q(t)\n",
    "w, t, o, r = symbols('ω t θ r', real = True)"
   ]
  },
  {
   "cell_type": "code",
   "execution_count": 1331,
   "metadata": {},
   "outputs": [
    {
     "data": {
      "text/latex": [
       "$\\displaystyle 0.5 e^{- 2 i t ω + i θ} \\sinh{\\left(r \\right)} \\cosh{\\left(r \\right)} + 0.5 e^{2 i t ω - i θ} \\sinh{\\left(r \\right)} \\cosh{\\left(r \\right)} + 0.5 \\sinh^{2}{\\left(r \\right)} + 0.5 \\cosh^{2}{\\left(r \\right)}$"
      ],
      "text/plain": [
       "0.5*exp(-2*I*t*ω + I*θ)*sinh(r)*cosh(r) + 0.5*exp(2*I*t*ω - I*θ)*sinh(r)*cosh(r) + 0.5*sinh(r)**2 + 0.5*cosh(r)**2"
      ]
     },
     "metadata": {},
     "output_type": "display_data"
    },
    {
     "data": {
      "text/latex": [
       "$\\displaystyle 0.5 \\cos{\\left(2 t ω - θ \\right)} \\sinh{\\left(2 r \\right)} + 0.5 \\cosh{\\left(2 r \\right)}$"
      ],
      "text/plain": [
       "0.5*cos(2*t*ω - θ)*sinh(2*r) + 0.5*cosh(2*r)"
      ]
     },
     "metadata": {},
     "output_type": "display_data"
    }
   ],
   "source": [
    "#Trouver <p^2(t)>; <p(t)> = 0\n",
    "#<p(t)>\n",
    "p = 0\n",
    "#<p^2(t)>\n",
    "p2 = (-1/2)*(-exp(2*I*w*t - I*o)*sinh(r)*cosh(r) - (sinh(r))**2 -cosh(r)**2 - exp(-2*I*w*t + I*o)*sinh(r)*cosh(r))\n",
    "\n",
    "display(p2)\n",
    "p2 = p2.rewrite(cos).simplify()\n",
    "display(p2)"
   ]
  },
  {
   "cell_type": "code",
   "execution_count": 1332,
   "metadata": {},
   "outputs": [
    {
     "data": {
      "text/latex": [
       "$\\displaystyle - 0.5 e^{- 2 i t ω + i θ} \\sinh{\\left(r \\right)} \\cosh{\\left(r \\right)} - 0.5 e^{2 i t ω - i θ} \\sinh{\\left(r \\right)} \\cosh{\\left(r \\right)} + 0.5 \\sinh^{2}{\\left(r \\right)} + 0.5 \\cosh^{2}{\\left(r \\right)}$"
      ],
      "text/plain": [
       "-0.5*exp(-2*I*t*ω + I*θ)*sinh(r)*cosh(r) - 0.5*exp(2*I*t*ω - I*θ)*sinh(r)*cosh(r) + 0.5*sinh(r)**2 + 0.5*cosh(r)**2"
      ]
     },
     "metadata": {},
     "output_type": "display_data"
    },
    {
     "data": {
      "text/latex": [
       "$\\displaystyle - 0.5 \\cos{\\left(2 t ω - θ \\right)} \\sinh{\\left(2 r \\right)} + 0.5 \\cosh{\\left(2 r \\right)}$"
      ],
      "text/plain": [
       "-0.5*cos(2*t*ω - θ)*sinh(2*r) + 0.5*cosh(2*r)"
      ]
     },
     "metadata": {},
     "output_type": "display_data"
    }
   ],
   "source": [
    "#Trouver <q^2(t)>; <q(t)> = 0\n",
    "#<q(t)>\n",
    "q = 0\n",
    "#<q^2(t)>\n",
    "q2 = (1/2)*(-exp(2*I*w*t - I*o)*sinh(r)*cosh(r) + (sinh(r))**2 + cosh(r)**2 - exp(-2*I*w*t + I*o)*sinh(r)*cosh(r))\n",
    "\n",
    "display(q2)\n",
    "q2 = q2.rewrite(cos).simplify()\n",
    "display(q2)"
   ]
  },
  {
   "cell_type": "code",
   "execution_count": 1333,
   "metadata": {},
   "outputs": [
    {
     "data": {
      "text/latex": [
       "$\\displaystyle 0.707106781186548 \\sqrt{\\cos{\\left(2 t ω - θ \\right)} \\sinh{\\left(2 r \\right)} + \\cosh{\\left(2 r \\right)}}$"
      ],
      "text/plain": [
       "0.707106781186548*sqrt(cos(2*t*ω - θ)*sinh(2*r) + cosh(2*r))"
      ]
     },
     "metadata": {},
     "output_type": "display_data"
    },
    {
     "data": {
      "text/latex": [
       "$\\displaystyle 0.707106781186548 \\sqrt{- \\cos{\\left(2 t ω - θ \\right)} \\sinh{\\left(2 r \\right)} + \\cosh{\\left(2 r \\right)}}$"
      ],
      "text/plain": [
       "0.707106781186548*sqrt(-cos(2*t*ω - θ)*sinh(2*r) + cosh(2*r))"
      ]
     },
     "metadata": {},
     "output_type": "display_data"
    },
    {
     "data": {
      "text/latex": [
       "$\\displaystyle 0.5 \\sqrt{- \\cos{\\left(2 t ω - θ \\right)} \\sinh{\\left(2 r \\right)} + \\cosh{\\left(2 r \\right)}} \\sqrt{\\cos{\\left(2 t ω - θ \\right)} \\sinh{\\left(2 r \\right)} + \\cosh{\\left(2 r \\right)}}$"
      ],
      "text/plain": [
       "0.5*sqrt(-cos(2*t*ω - θ)*sinh(2*r) + cosh(2*r))*sqrt(cos(2*t*ω - θ)*sinh(2*r) + cosh(2*r))"
      ]
     },
     "metadata": {},
     "output_type": "display_data"
    }
   ],
   "source": [
    "#Trouver Δp(t) et Δq(t)\n",
    "dp = sqrt(p2 - p)\n",
    "dq = sqrt(q2 - q)\n",
    "display(dp)\n",
    "display(dq)\n",
    "#Δp(t)Δq(t)\n",
    "dpdq = dp*dq\n",
    "#dpdq.rewrite(exp).simplify()\n",
    "display(dpdq)"
   ]
  },
  {
   "cell_type": "code",
   "execution_count": 1334,
   "metadata": {},
   "outputs": [
    {
     "data": {
      "text/latex": [
       "$\\displaystyle 0.707106781186548 e^{r}$"
      ],
      "text/plain": [
       "0.707106781186548*exp(r)"
      ]
     },
     "metadata": {},
     "output_type": "display_data"
    },
    {
     "data": {
      "text/latex": [
       "$\\displaystyle 0.707106781186548 e^{- r}$"
      ],
      "text/plain": [
       "0.707106781186548*exp(-r)"
      ]
     },
     "metadata": {},
     "output_type": "display_data"
    },
    {
     "data": {
      "text/latex": [
       "$\\displaystyle 0.5$"
      ],
      "text/plain": [
       "0.500000000000000"
      ]
     },
     "metadata": {},
     "output_type": "display_data"
    }
   ],
   "source": [
    "''' \n",
    "Pour trouver que Δp(t)Δq(t) est minimale quand: cos(2ωt - θ) = 1\n",
    "Donc, cela se trouve quand:\n",
    "ω = πn (pour simplifier nous allons laisser la phase etre 0)\n",
    "\n",
    "Ici on voix un example avec n = 0 et la phase a 0, on voix les forme exponentiel donne toujour 1/2\n",
    "'''\n",
    "n = 0\n",
    "o = 0\n",
    "w = n*pi \n",
    "p2 = (-1/2)*(-exp(2*I*w*t - I*o)*sinh(r)*cosh(r) - (sinh(r))**2 -cosh(r)**2 - exp(-2*I*w*t + I*o)*sinh(r)*cosh(r))\n",
    "q2 = (1/2)*(-exp(2*I*w*t - I*o)*sinh(r)*cosh(r) + (sinh(r))**2 + cosh(r)**2 - exp(-2*I*w*t + I*o)*sinh(r)*cosh(r))\n",
    "\n",
    "p2 = p2.rewrite(cos).simplify()\n",
    "q2 = q2.rewrite(cos).simplify()\n",
    "dp = sqrt(p2 - p).rewrite(exp)\n",
    "dq = sqrt(q2 - q).rewrite(exp)\n",
    "display(dp)\n",
    "display(dq)\n",
    "dpdq = dp*dq\n",
    "display(dpdq) #valeur minimale, vérifie avec partie b) du devoir pour le terme générale\n"
   ]
  },
  {
   "cell_type": "code",
   "execution_count": 1335,
   "metadata": {},
   "outputs": [],
   "source": [
    "import numpy as np\n",
    "import matplotlib.pyplot as plt"
   ]
  },
  {
   "cell_type": "code",
   "execution_count": 1336,
   "metadata": {},
   "outputs": [
    {
     "data": {
      "text/plain": [
       "[0.500000000000000,\n",
       " 0.513057907139679,\n",
       " 0.550182528028275,\n",
       " 0.606450384241071,\n",
       " 0.676332017228623,\n",
       " 0.755107418060936,\n",
       " 0.839198622578331,\n",
       " 0.925996303144135,\n",
       " 1.01359084684852,\n",
       " 1.10055094016548,\n",
       " 1.18576933012187,\n",
       " 1.26836154512438,\n",
       " 1.34760056943215,\n",
       " 1.42287471236159,\n",
       " 1.49366023466358,\n",
       " 1.55950338586064,\n",
       " 1.62000850065575,\n",
       " 1.67483004452592,\n",
       " 1.72366726595894,\n",
       " 1.76626058918432,\n",
       " 1.80238918039790,\n",
       " 1.83186931118420,\n",
       " 1.85455326659041,\n",
       " 1.87032862728358,\n",
       " 1.87911781091531,\n",
       " 1.88087779693131,\n",
       " 1.87559998784810,\n",
       " 1.86331018268545,\n",
       " 1.84406865783895,\n",
       " 1.81797036968501,\n",
       " 1.78514531400775,\n",
       " 1.74575910262579,\n",
       " 1.70001385091750,\n",
       " 1.64814951638999,\n",
       " 1.59044589576735,\n",
       " 1.52722558851163,\n",
       " 1.45885838794694,\n",
       " 1.38576779951473,\n",
       " 1.30844076255614,\n",
       " 1.22744225596011,\n",
       " 1.14343744424464,\n",
       " 1.05722559794436,\n",
       " 0.969792522942319,\n",
       " 0.882391964185380,\n",
       " 0.796671092096114,\n",
       " 0.714857460449823,\n",
       " 0.640011290571976,\n",
       " 0.576277963514205,\n",
       " 0.528879950937761,\n",
       " 0.503299549482705,\n",
       " 0.503299549482705,\n",
       " 0.528879950937761,\n",
       " 0.576277963514205,\n",
       " 0.640011290571976,\n",
       " 0.714857460449823,\n",
       " 0.796671092096113,\n",
       " 0.882391964185380,\n",
       " 0.969792522942319,\n",
       " 1.05722559794436,\n",
       " 1.14343744424464,\n",
       " 1.22744225596011,\n",
       " 1.30844076255614,\n",
       " 1.38576779951473,\n",
       " 1.45885838794694,\n",
       " 1.52722558851163,\n",
       " 1.59044589576735,\n",
       " 1.64814951638999,\n",
       " 1.70001385091750,\n",
       " 1.74575910262579,\n",
       " 1.78514531400775,\n",
       " 1.81797036968501,\n",
       " 1.84406865783895,\n",
       " 1.86331018268545,\n",
       " 1.87559998784810,\n",
       " 1.88087779693131,\n",
       " 1.87911781091531,\n",
       " 1.87032862728358,\n",
       " 1.85455326659041,\n",
       " 1.83186931118420,\n",
       " 1.80238918039790,\n",
       " 1.76626058918432,\n",
       " 1.72366726595894,\n",
       " 1.67483004452592,\n",
       " 1.62000850065575,\n",
       " 1.55950338586064,\n",
       " 1.49366023466358,\n",
       " 1.42287471236159,\n",
       " 1.34760056943215,\n",
       " 1.26836154512438,\n",
       " 1.18576933012187,\n",
       " 1.10055094016548,\n",
       " 1.01359084684852,\n",
       " 0.925996303144136,\n",
       " 0.839198622578330,\n",
       " 0.755107418060935,\n",
       " 0.676332017228623,\n",
       " 0.606450384241071,\n",
       " 0.550182528028275,\n",
       " 0.513057907139679,\n",
       " 0.500000000000000]"
      ]
     },
     "metadata": {},
     "output_type": "display_data"
    }
   ],
   "source": [
    "#Condition de frontière\n",
    "TEMP_MIN = 0\n",
    "TEMP_MAX = np.pi\n",
    "N = 100 #itterations\n",
    "\n",
    "delQdelP = []\n",
    "\n",
    "temp = np.linspace(0, np.pi, N)\n",
    "\n",
    "#Générer des points pour Δp(t)Δq(t)\n",
    "for j in range(0, N):\n",
    "    #Avec ξ = ω = 1   \n",
    "    t = temp[j]\n",
    "    w = 1\n",
    "    o = 0\n",
    "    r = 1\n",
    "    p = 0\n",
    "    q = 0\n",
    "    p2 = (-1/2)*(-exp(2*I*w*t - I*o)*sinh(r)*cosh(r) - (sinh(r))**2 -cosh(r)**2 - exp(-2*I*w*t + I*o)*sinh(r)*cosh(r))\n",
    "    q2 = (1/2)*(-exp(2*I*w*t - I*o)*sinh(r)*cosh(r) + (sinh(r))**2 + cosh(r)**2 - exp(-2*I*w*t + I*o)*sinh(r)*cosh(r))\n",
    "    p2 = p2.rewrite(cos).simplify()\n",
    "    q2 = q2.rewrite(cos).simplify()\n",
    "    dp = sqrt(p2 - p)\n",
    "    dq = sqrt(q2 - q)\n",
    "    dpdq = dp*dq\n",
    "    dpdq.evalf()\n",
    "    delQdelP.append(dpdq.evalf())\n",
    "    \n",
    "display(delQdelP)"
   ]
  },
  {
   "cell_type": "code",
   "execution_count": 1337,
   "metadata": {},
   "outputs": [
    {
     "data": {
      "text/plain": [
       "Text(0, 0.5, 'Δp(t)Δq(t)')"
      ]
     },
     "execution_count": 1337,
     "metadata": {},
     "output_type": "execute_result"
    },
    {
     "data": {
      "image/png": "[encoded data removed]",
      "text/plain": [
       "<Figure size 640x480 with 1 Axes>"
      ]
     },
     "metadata": {},
     "output_type": "display_data"
    }
   ],
   "source": [
    "#axe de temps\n",
    "t = np.linspace(TEMP_MIN, TEMP_MAX, N)\n",
    "\n",
    "#graphique de (temps, Δp(t)Δq(t))\n",
    "plt.plot(t, delQdelP)\n",
    "plt.xlabel('Temps')\n",
    "plt.ylabel('Δp(t)Δq(t)')"
   ]
  }
 ],
 "metadata": {
  "kernelspec": {
   "display_name": "Python 3.10.8 64-bit",
   "language": "python",
   "name": "python3"
  },
  "language_info": {
   "codemirror_mode": {
    "name": "ipython",
    "version": 3
   },
   "file_extension": ".py",
   "mimetype": "text/x-python",
   "name": "python",
   "nbconvert_exporter": "python",
   "pygments_lexer": "ipython3",
   "version": "3.10.8"
  },
  "orig_nbformat": 4,
  "vscode": {
   "interpreter": {
    "hash": "26de051ba29f2982a8de78e945f0abaf191376122a1563185a90213a26c5da77"
   }
  }
 },
 "nbformat": 4,
 "nbformat_minor": 2
}
